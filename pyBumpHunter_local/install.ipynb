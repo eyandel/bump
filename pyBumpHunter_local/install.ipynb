{
 "cells": [
  {
   "cell_type": "code",
   "execution_count": 30,
   "id": "536a00f1",
   "metadata": {},
   "outputs": [
    {
     "name": "stdout",
     "output_type": "stream",
     "text": [
      "Defaulting to user installation because normal site-packages is not writeable\n",
      "Obtaining file:///Users/eyandel/Documents/MicroBooNE/bump/pyBumpHunter\n",
      "  Installing build dependencies ... \u001b[?25ldone\n",
      "\u001b[?25h  Checking if build backend supports build_editable ... \u001b[?25ldone\n",
      "\u001b[?25h  Getting requirements to build editable ... \u001b[?25ldone\n",
      "\u001b[?25h  Preparing editable metadata (pyproject.toml) ... \u001b[?25ldone\n",
      "\u001b[?25hRequirement already satisfied: matplotlib in /Users/eyandel/Library/Python/3.12/lib/python/site-packages (from pyBumpHunter==0.4.3.dev8+ga05c083.d20250807) (3.9.1)\n",
      "Requirement already satisfied: numpy>=1.13.3 in /Users/eyandel/Library/Python/3.12/lib/python/site-packages (from pyBumpHunter==0.4.3.dev8+ga05c083.d20250807) (2.0.0)\n",
      "Requirement already satisfied: scipy in /Users/eyandel/Library/Python/3.12/lib/python/site-packages (from pyBumpHunter==0.4.3.dev8+ga05c083.d20250807) (1.14.0)\n",
      "Requirement already satisfied: contourpy>=1.0.1 in /Users/eyandel/Library/Python/3.12/lib/python/site-packages (from matplotlib->pyBumpHunter==0.4.3.dev8+ga05c083.d20250807) (1.2.1)\n",
      "Requirement already satisfied: cycler>=0.10 in /Users/eyandel/Library/Python/3.12/lib/python/site-packages (from matplotlib->pyBumpHunter==0.4.3.dev8+ga05c083.d20250807) (0.12.1)\n",
      "Requirement already satisfied: fonttools>=4.22.0 in /Users/eyandel/Library/Python/3.12/lib/python/site-packages (from matplotlib->pyBumpHunter==0.4.3.dev8+ga05c083.d20250807) (4.53.1)\n",
      "Requirement already satisfied: kiwisolver>=1.3.1 in /Users/eyandel/Library/Python/3.12/lib/python/site-packages (from matplotlib->pyBumpHunter==0.4.3.dev8+ga05c083.d20250807) (1.4.5)\n",
      "Requirement already satisfied: packaging>=20.0 in /opt/homebrew/Cellar/jupyterlab/4.2.5_1/libexec/lib/python3.12/site-packages (from matplotlib->pyBumpHunter==0.4.3.dev8+ga05c083.d20250807) (24.1)\n",
      "Requirement already satisfied: pillow>=8 in /Users/eyandel/Library/Python/3.12/lib/python/site-packages (from matplotlib->pyBumpHunter==0.4.3.dev8+ga05c083.d20250807) (10.4.0)\n",
      "Requirement already satisfied: pyparsing>=2.3.1 in /Users/eyandel/Library/Python/3.12/lib/python/site-packages (from matplotlib->pyBumpHunter==0.4.3.dev8+ga05c083.d20250807) (3.1.2)\n",
      "Requirement already satisfied: python-dateutil>=2.7 in /opt/homebrew/Cellar/jupyterlab/4.2.5_1/libexec/lib/python3.12/site-packages (from matplotlib->pyBumpHunter==0.4.3.dev8+ga05c083.d20250807) (2.9.0.post0)\n",
      "Requirement already satisfied: six>=1.5 in /opt/homebrew/Cellar/jupyterlab/4.2.5_1/libexec/lib/python3.12/site-packages (from python-dateutil>=2.7->matplotlib->pyBumpHunter==0.4.3.dev8+ga05c083.d20250807) (1.16.0)\n",
      "Building wheels for collected packages: pyBumpHunter\n",
      "  Building editable for pyBumpHunter (pyproject.toml) ... \u001b[?25ldone\n",
      "\u001b[?25h  Created wheel for pyBumpHunter: filename=pybumphunter-0.4.3.dev8+ga05c083.d20250807-0.editable-py3-none-any.whl size=6026 sha256=b7f9ea68f89c8f1716631f2af3fdeec4c67fdf9a13ed848bb64538481f16956a\n",
      "  Stored in directory: /private/var/folders/x1/dj_wtm2j1zb3jz10zr8lm3_c001b0y/T/pip-ephem-wheel-cache-5mewwcni/wheels/a5/ac/9c/62a61708d8756ff84b4c5ffa1aec29bf1a856bf80e4f5f7fe7\n",
      "Successfully built pyBumpHunter\n",
      "Installing collected packages: pyBumpHunter\n",
      "  Attempting uninstall: pyBumpHunter\n",
      "    Found existing installation: pyBumpHunter 0.4.3.dev8+ga05c083.d20250806\n",
      "    Not uninstalling pybumphunter at /Users/eyandel/Library/Python/3.12/lib/python/site-packages, outside environment /opt/homebrew/Cellar/jupyterlab/4.2.5_1/libexec\n",
      "    Can't uninstall 'pyBumpHunter'. No files were found to uninstall.\n",
      "Successfully installed pyBumpHunter-0.4.3.dev8+ga05c083.d20250806\n",
      "\n",
      "\u001b[1m[\u001b[0m\u001b[34;49mnotice\u001b[0m\u001b[1;39;49m]\u001b[0m\u001b[39;49m A new release of pip is available: \u001b[0m\u001b[31;49m24.1.1\u001b[0m\u001b[39;49m -> \u001b[0m\u001b[32;49m25.2\u001b[0m\n",
      "\u001b[1m[\u001b[0m\u001b[34;49mnotice\u001b[0m\u001b[1;39;49m]\u001b[0m\u001b[39;49m To update, run: \u001b[0m\u001b[32;49m/opt/homebrew/Cellar/jupyterlab/4.2.5_1/libexec/bin/python -m pip install --upgrade pip\u001b[0m\n",
      "Note: you may need to restart the kernel to use updated packages.\n"
     ]
    }
   ],
   "source": [
    "import sys\n",
    "!{sys.executable} -m pip install -e /Users/eyandel/Documents/MicroBooNE/bump/pyBumpHunter"
   ]
  },
  {
   "cell_type": "code",
   "execution_count": 7,
   "id": "066eca3a",
   "metadata": {},
   "outputs": [
    {
     "name": "stdout",
     "output_type": "stream",
     "text": [
      "/Users/eyandel/Documents/MicroBooNE/bump/pyBumpHunter\n"
     ]
    },
    {
     "data": {
      "text/plain": [
       "0"
      ]
     },
     "execution_count": 7,
     "metadata": {},
     "output_type": "execute_result"
    }
   ],
   "source": [
    "import os\n",
    "os.system('pwd')"
   ]
  },
  {
   "cell_type": "code",
   "execution_count": 8,
   "id": "2c14d9a9",
   "metadata": {},
   "outputs": [
    {
     "name": "stdout",
     "output_type": "stream",
     "text": [
      "Defaulting to user installation because normal site-packages is not writeable\n",
      "Obtaining file:///Users/eyandel/Documents/MicroBooNE/bump/pyBumpHunter\n",
      "  Installing build dependencies: started\n",
      "  Installing build dependencies: finished with status 'done'\n",
      "  Checking if build backend supports build_editable: started\n",
      "  Checking if build backend supports build_editable: finished with status 'done'\n",
      "  Getting requirements to build editable: started\n",
      "  Getting requirements to build editable: finished with status 'done'\n",
      "  Preparing editable metadata (pyproject.toml): started\n",
      "  Preparing editable metadata (pyproject.toml): finished with status 'done'\n",
      "Requirement already satisfied: matplotlib in /Users/eyandel/Library/Python/3.12/lib/python/site-packages (from pyBumpHunter==0.4.3.dev8+ga05c083.d20250806) (3.9.1)\n",
      "Requirement already satisfied: numpy>=1.13.3 in /Users/eyandel/Library/Python/3.12/lib/python/site-packages (from pyBumpHunter==0.4.3.dev8+ga05c083.d20250806) (2.0.0)\n",
      "Requirement already satisfied: scipy in /Users/eyandel/Library/Python/3.12/lib/python/site-packages (from pyBumpHunter==0.4.3.dev8+ga05c083.d20250806) (1.14.0)\n",
      "Requirement already satisfied: contourpy>=1.0.1 in /Users/eyandel/Library/Python/3.12/lib/python/site-packages (from matplotlib->pyBumpHunter==0.4.3.dev8+ga05c083.d20250806) (1.2.1)\n",
      "Requirement already satisfied: cycler>=0.10 in /Users/eyandel/Library/Python/3.12/lib/python/site-packages (from matplotlib->pyBumpHunter==0.4.3.dev8+ga05c083.d20250806) (0.12.1)\n",
      "Requirement already satisfied: fonttools>=4.22.0 in /Users/eyandel/Library/Python/3.12/lib/python/site-packages (from matplotlib->pyBumpHunter==0.4.3.dev8+ga05c083.d20250806) (4.53.1)\n",
      "Requirement already satisfied: kiwisolver>=1.3.1 in /Users/eyandel/Library/Python/3.12/lib/python/site-packages (from matplotlib->pyBumpHunter==0.4.3.dev8+ga05c083.d20250806) (1.4.5)\n",
      "Requirement already satisfied: packaging>=20.0 in /Users/eyandel/Library/Python/3.12/lib/python/site-packages (from matplotlib->pyBumpHunter==0.4.3.dev8+ga05c083.d20250806) (24.1)\n",
      "Requirement already satisfied: pillow>=8 in /Users/eyandel/Library/Python/3.12/lib/python/site-packages (from matplotlib->pyBumpHunter==0.4.3.dev8+ga05c083.d20250806) (10.4.0)\n",
      "Requirement already satisfied: pyparsing>=2.3.1 in /Users/eyandel/Library/Python/3.12/lib/python/site-packages (from matplotlib->pyBumpHunter==0.4.3.dev8+ga05c083.d20250806) (3.1.2)\n",
      "Requirement already satisfied: python-dateutil>=2.7 in /Users/eyandel/Library/Python/3.12/lib/python/site-packages (from matplotlib->pyBumpHunter==0.4.3.dev8+ga05c083.d20250806) (2.9.0.post0)\n",
      "Requirement already satisfied: six>=1.5 in /Users/eyandel/Library/Python/3.12/lib/python/site-packages (from python-dateutil>=2.7->matplotlib->pyBumpHunter==0.4.3.dev8+ga05c083.d20250806) (1.16.0)\n",
      "Building wheels for collected packages: pyBumpHunter\n",
      "  Building editable for pyBumpHunter (pyproject.toml): started\n",
      "  Building editable for pyBumpHunter (pyproject.toml): finished with status 'done'\n",
      "  Created wheel for pyBumpHunter: filename=pybumphunter-0.4.3.dev8+ga05c083.d20250806-0.editable-py3-none-any.whl size=6027 sha256=d6d93de67a02c16b78e4f8f4cc4818371605af33245be758463d21b15bdb280f\n",
      "  Stored in directory: /private/var/folders/x1/dj_wtm2j1zb3jz10zr8lm3_c001b0y/T/pip-ephem-wheel-cache-iw0u9zia/wheels/a5/ac/9c/62a61708d8756ff84b4c5ffa1aec29bf1a856bf80e4f5f7fe7\n",
      "Successfully built pyBumpHunter\n",
      "Installing collected packages: pyBumpHunter\n",
      "  Attempting uninstall: pyBumpHunter\n",
      "    Found existing installation: pyBumpHunter 0.4.3.dev8+ga05c083.d20250806\n",
      "    Uninstalling pyBumpHunter-0.4.3.dev8+ga05c083.d20250806:\n",
      "      Successfully uninstalled pyBumpHunter-0.4.3.dev8+ga05c083.d20250806\n",
      "Successfully installed pyBumpHunter-0.4.3.dev8+ga05c083.d20250806\n"
     ]
    },
    {
     "name": "stderr",
     "output_type": "stream",
     "text": [
      "\n",
      "\u001b[1m[\u001b[0m\u001b[34;49mnotice\u001b[0m\u001b[1;39;49m]\u001b[0m\u001b[39;49m A new release of pip is available: \u001b[0m\u001b[31;49m24.1.1\u001b[0m\u001b[39;49m -> \u001b[0m\u001b[32;49m25.2\u001b[0m\n",
      "\u001b[1m[\u001b[0m\u001b[34;49mnotice\u001b[0m\u001b[1;39;49m]\u001b[0m\u001b[39;49m To update, run: \u001b[0m\u001b[32;49mpip3 install --upgrade pip\u001b[0m\n"
     ]
    },
    {
     "data": {
      "text/plain": [
       "0"
      ]
     },
     "execution_count": 8,
     "metadata": {},
     "output_type": "execute_result"
    }
   ],
   "source": [
    "os.system('cd /Users/eyandel/Documents/MicroBooNE/bump/pyBumpHunter; pip3 install -e .')"
   ]
  },
  {
   "cell_type": "code",
   "execution_count": null,
   "id": "cb78ff19",
   "metadata": {},
   "outputs": [],
   "source": []
  }
 ],
 "metadata": {
  "kernelspec": {
   "display_name": "Python 3 (ipykernel)",
   "language": "python",
   "name": "python3"
  }
 },
 "nbformat": 4,
 "nbformat_minor": 5
}
