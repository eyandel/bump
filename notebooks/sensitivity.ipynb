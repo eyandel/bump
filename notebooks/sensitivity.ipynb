{
 "cells": [
  {
   "cell_type": "markdown",
   "metadata": {},
   "source": [
    "# pyBumpHunter Example\n",
    "\n",
    "Simple notebook for testing the pyBumpHunter.py package."
   ]
  },
  {
   "cell_type": "code",
   "execution_count": 1,
   "metadata": {},
   "outputs": [],
   "source": [
    "import numpy as np\n",
    "import matplotlib.pyplot as plt\n",
    "import pyBumpHunter as BH\n",
    "from datetime import datetime  ## Used to compute the execution time\n",
    "import uproot as upr  ## Used to read data from a root file"
   ]
  },
  {
   "cell_type": "code",
   "execution_count": 2,
   "metadata": {},
   "outputs": [
    {
     "name": "stdout",
     "output_type": "stream",
     "text": [
      "6.32.06\n",
      "6.32.06\n"
     ]
    },
    {
     "name": "stderr",
     "output_type": "stream",
     "text": [
      "/Users/eyandel/Documents/MicroBooNE/bump/analysisfunction.py:2079: SyntaxWarning: invalid escape sequence '\\S'\n",
      "  '{} POT                      Stat. Uncert. Only\\n$\\Sigma$Data/$\\Sigma$(MC+EXT)={}'.format(POT,\n"
     ]
    }
   ],
   "source": [
    "#import xgboost as xgb\n",
    "#import matplotlib.pyplot as plt\n",
    "#import uproot as uproot\n",
    "import pandas as pd\n",
    "#import numpy as np\n",
    "#from sklearn.model_selection import train_test_split\n",
    "#from sklearn.metrics import roc_curve, auc\n",
    "import shutil\n",
    "from array import array\n",
    "import math\n",
    "from tqdm import tqdm\n",
    "import os\n",
    "\n",
    "#print(xgb.__version__)\n",
    "\n",
    "import ROOT\n",
    "print(ROOT.gROOT.GetVersion())\n",
    "ROOT.gStyle.SetOptStat(0)\n",
    "ROOT.gStyle.SetLegendBorderSize(0)\n",
    "ROOT.gStyle.SetLegendTextSize(0.035)\n",
    "ROOT.gStyle.SetLegendFont(62)\n",
    "ROOT.gStyle.SetLabelFont(62)\n",
    "\n",
    "import analysisfunction"
   ]
  },
  {
   "cell_type": "code",
   "execution_count": 3,
   "metadata": {},
   "outputs": [],
   "source": [
    "plot_folder = \"test_bumphunter_SURPRISE_run4b\"\n",
    "blind_data = True\n",
    "\n",
    "if not os.path.exists('/Users/eyandel/Documents/MicroBooNE/bump/plots/'+plot_folder):\n",
    "    os.makedirs('/Users/eyandel/Documents/MicroBooNE/bump/plots/'+plot_folder)\n",
    "    os.makedirs('/Users/eyandel/Documents/MicroBooNE/bump/plots/'+plot_folder+'/datamc')\n",
    "    os.makedirs('/Users/eyandel/Documents/MicroBooNE/bump/plots/'+plot_folder+'/mc_only')\n",
    "    os.makedirs('/Users/eyandel/Documents/MicroBooNE/bump/plots/'+plot_folder+'/plots_2d')\n",
    "    os.makedirs('/Users/eyandel/Documents/MicroBooNE/bump/plots/'+plot_folder+'/python_plots')\n",
    "    os.makedirs('/Users/eyandel/Documents/MicroBooNE/bump/plots/'+plot_folder+'/data')\n",
    "    "
   ]
  },
  {
   "cell_type": "code",
   "execution_count": 4,
   "metadata": {},
   "outputs": [
    {
     "name": "stdout",
     "output_type": "stream",
     "text": [
      "3.72559173103483e+20\n"
     ]
    }
   ],
   "source": [
    "#set base ROOT color numbers (from TAttFill class ref) for use with matplotlib\n",
    "kWhite  = 0   \n",
    "kBlack  = 1\n",
    "kGray    = 920\n",
    "kRed    = 632\n",
    "kGreen  = 416\n",
    "kBlue   = 600\n",
    "kYellow = 400\n",
    "kMagenta = 616\n",
    "kCyan   = 432\n",
    "kOrange = 800\n",
    "kSpring = 820\n",
    "kTeal   = 840\n",
    "kAzure   =  860\n",
    "kViolet = 880\n",
    "kPink   = 900\n",
    "\n",
    "#set default color and hatching\n",
    "colors = [ROOT.gROOT.GetColor(kRed+2).AsHexString(), ROOT.gROOT.GetColor(kOrange+3).AsHexString(),\n",
    "          ROOT.gROOT.GetColor(kGray).AsHexString(), ROOT.gROOT.GetColor(kOrange+1).AsHexString(),\n",
    "          ROOT.gROOT.GetColor(38).AsHexString(), ROOT.gROOT.GetColor(30).AsHexString(),\n",
    "          ROOT.gROOT.GetColor(kOrange+1).AsHexString(), ROOT.gROOT.GetColor(kAzure+6).AsHexString(),\n",
    "          ROOT.gROOT.GetColor(kGreen+1).AsHexString(), ROOT.gROOT.GetColor(kPink+5).AsHexString(),\n",
    "          ROOT.gROOT.GetColor(kPink-6).AsHexString(), ROOT.gROOT.GetColor(kPink-8).AsHexString(),\n",
    "          ROOT.gROOT.GetColor(kPink-7).AsHexString(), ROOT.gROOT.GetColor(kPink).AsHexString()]\n",
    "\n",
    "hatches = ['\\\\\\\\','\\\\\\\\','\\\\\\\\','\\\\\\\\',None,None,None,None,None,None,None,None,None,]\n",
    "\n",
    "#default = do not plot y axis as log, and do not include eff and pur in title\n",
    "plotlog = False\n",
    "showeffpur = False\n",
    "\n",
    "#default legend position (upper right corner)\n",
    "legx1 = 0.45\n",
    "legy1 = 0.55\n",
    "legx2 = 0.85\n",
    "legy2 = 0.85\n",
    "\n",
    "#POT information\n",
    "run1dataPOT = 0.0\n",
    "run2dataPOT = 0.0\n",
    "run3dataPOT = 0.0\n",
    "\n",
    "run1dataPOT = 1.42549e+20\n",
    "run2dataPOT = 2.54086e+20\n",
    "run3dataPOT = 2.37673e+20\n",
    "run4dataPOT = 1.07e+20 #8.958e+19\n",
    "\n",
    "run4dataSpills = 25401921.0 #21262204.0\n",
    "\n",
    "run1frac = 1.42549\n",
    "run2frac = 2.54086\n",
    "run3frac = 2.37673\n",
    "run4frac = 1.07\n",
    "\n",
    "run4ExtBnbSpills = 88445969.0\n",
    "\n",
    "run1ExtBnbPOT = 2.02672e+20 #6.67349e+19\n",
    "run2ExtBnbPOT = 3.60832e+20\n",
    "run3ExtBnbPOT = 5.19263e+20\n",
    "run4ExtBnbPOT = (run4dataPOT / run4dataSpills) * run4ExtBnbSpills\n",
    "print(run4ExtBnbPOT)\n",
    "\n",
    "#run1dataSpills =  6.9301e+06\n",
    "#run3dataSpills = 0.0\n",
    "#run1BnbPOT = 7.87981e+20   #4.14781e+20#1.16272e20\n",
    "#run3BnbPOT = 6.28739e+20\n",
    "#run1ExtBnbSpills = 1.488e+07\n",
    "#run3ExtBnbSpills = 8.81379e+06\n",
    "#run1DirtPOT = 3.56173e+20   #1.51589e+20\n",
    "#run3DirtPOT = 3.59228e+20\n",
    "\n",
    "Numu_Cut = 0.4 #0000000000000036 #0.10000000000000009  \n",
    "Other_Cut = 0.2 #0000000000000018 #-0.3999999999999999  \n",
    "NC_Pi0_Cut = -0.05 #999999999999982 #-0.3999999999999999  \n",
    "Nue_Cut = -1.0 #-3.0\n",
    "\n",
    "#Numu_Cut = 0.1 #-3.0 #0.40000000000000036 #0.10000000000000009  \n",
    "#Other_Cut = -0.4 #0.20000000000000018 #-0.3999999999999999  \n",
    "#NC_Pi0_Cut = -0.4 #-0.04999999999999982 #-0.3999999999999999  \n",
    "#Nue_Cut = -3.0 #-1.0 #-3.0  \n",
    "\n",
    "#files\n",
    "nu_overlay_1=\"/Users/eyandel/Documents/MicroBooNE/spbdt/data/processed_checkout_rootfiles/checkout_bnboverlay_run1_sp.root\"       \n",
    "nu_overlay_2=\"/Users/eyandel/Documents/MicroBooNE/spbdt/data/processed_checkout_rootfiles/checkout_bnboverlay_run2_sp.root\"      \n",
    "nu_overlay_3=\"/Users/eyandel/Documents/MicroBooNE/spbdt/data/processed_checkout_rootfiles/checkout_bnboverlay_run3_sp_1.root\"     \n",
    "DIRT_1=\"/Users/eyandel/Documents/MicroBooNE/spbdt/data/processed_checkout_rootfiles/checkout_dirt_run1_sp.root\"              \n",
    "DIRT_2=\"/Users/eyandel/Documents/MicroBooNE/spbdt/data/processed_checkout_rootfiles/checkout_dirt_run2_sp.root\"              \n",
    "DIRT_3=\"/Users/eyandel/Documents/MicroBooNE/spbdt/data/processed_checkout_rootfiles/checkout_dirt_run3_sp.root\"              \n",
    "EXTBNB_1=\"/Users/eyandel/Documents/MicroBooNE/spbdt/data/processed_checkout_rootfiles/checkout_extbnb_run1_sp.root\"        \n",
    "EXTBNB_2=\"/Users/eyandel/Documents/MicroBooNE/spbdt/data/processed_checkout_rootfiles/checkout_extbnb_D2_run2_sp.root\"         \n",
    "EXTBNB_3=\"/Users/eyandel/Documents/MicroBooNE/spbdt/data/processed_checkout_rootfiles/checkout_extbnb_run3_sp.root\"         \n",
    "BNB_1=\"/Users/eyandel/Documents/MicroBooNE/spbdt/data/processed_checkout_rootfiles/checkout_bnb_run1_full.root\"         \n",
    "BNB_2=\"/Users/eyandel/Documents/MicroBooNE/spbdt/data/processed_checkout_rootfiles/checkout_bnb_run2_full.root\"               \n",
    "BNB_3=\"/Users/eyandel/Documents/MicroBooNE/spbdt/data/processed_checkout_rootfiles/checkout_bnb_run3_full.root\"               \n",
    "sp_overlay_1=\"/Users/eyandel/Documents/MicroBooNE/spbdt/data/processed_checkout_rootfiles/checkout_inclusivephoton_run1_cv.root\"\n",
    "sp_overlay_2=\"/Users/eyandel/Documents/MicroBooNE/spbdt/data/processed_checkout_rootfiles/checkout_inclusivephoton_run2_cv.root\"\n",
    "sp_overlay_3=\"/Users/eyandel/Documents/MicroBooNE/spbdt/data/processed_checkout_rootfiles/checkout_inclusivephoton_run3_cv.root\"\n",
    "ncpi0_overlay_1=\"/Users/eyandel/Documents/MicroBooNE/spbdt/data/processed_checkout_rootfiles/checkout_ncpi0_run1_sp.root\"\n",
    "ncpi0_overlay_2=\"/Users/eyandel/Documents/MicroBooNE/spbdt/data/processed_checkout_rootfiles/checkout_ncpi0_run2_sp.root\"\n",
    "ncpi0_overlay_3=\"/Users/eyandel/Documents/MicroBooNE/spbdt/data/processed_checkout_rootfiles/checkout_ncpi0_run3_sp.root\"\n",
    "lee_1=\"/Users/eyandel/Documents/MicroBooNE/spbdt/data/processed_checkout_rootfiles/checkout_LEE_1g0p_run1_half.root\"\n",
    "\n",
    "nu_overlay_4b=\"/Users/eyandel/Documents/MicroBooNE/processed_checkout_rootfiles/run4b/MCC9.10_Run4b_v10_04_07_09_BNB_nu_overlay_surprise_reco2_hist.root\"\n",
    "DIRT_4b=\"/Users/eyandel/Documents/MicroBooNE/processed_checkout_rootfiles/run4b/MCC9.10_Run4b_v10_04_07_09_BNB_dirt_surpise_reco2_hist.root\"\n",
    "EXTBNB_4b=\"/Users/eyandel/Documents/MicroBooNE/processed_checkout_rootfiles/run4b/MCC9.10_Run4b_v10_04_07_09_Run4b_BNB_beam_off_surprise_reco2_hist.root\"\n",
    "BNB_4b=\"/Users/eyandel/Documents/MicroBooNE/processed_checkout_rootfiles/run4b/MCC9.10_Run4b_v10_04_07_10_BNB_beam_on_surprise_mix_makeups.root\"\n",
    "nue_overlay_4b=\"/Users/eyandel/Documents/MicroBooNE/processed_checkout_rootfiles/run4b/MCC9.10_Run4b_v10_04_07_09_BNB_nue_overlay_surprise_reco2_hist.root\"\n",
    "ncpi0_overlay_4b=\"/Users/eyandel/Documents/MicroBooNE/processed_checkout_rootfiles/run4b/MCC9.10_Run4b_v10_04_07_09_BNB_NC_pi0_overlay_surprise_reco2_hist.root\"\n",
    "\n",
    "#BNB_1 = ncpi0_overlay_1\n",
    "#BNB_2 = ncpi0_overlay_2\n",
    "#BNB_3 = ncpi0_overlay_3"
   ]
  },
  {
   "cell_type": "code",
   "execution_count": 5,
   "metadata": {},
   "outputs": [
    {
     "name": "stdout",
     "output_type": "stream",
     "text": [
      "1.2771014098929228e+21\n",
      "6.710204772333e+21\n",
      "1.2311733857349017e+21\n"
     ]
    }
   ],
   "source": [
    "##FOR USING AN OVERLAY AS DATA\n",
    "run1dataPOT = analysisfunction.GetPOT(ncpi0_overlay_1)\n",
    "run2dataPOT = analysisfunction.GetPOT(ncpi0_overlay_2)\n",
    "run3dataPOT = analysisfunction.GetPOT(ncpi0_overlay_3)"
   ]
  },
  {
   "cell_type": "code",
   "execution_count": 6,
   "metadata": {},
   "outputs": [
    {
     "name": "stdout",
     "output_type": "stream",
     "text": [
      "7.303211076491763e+20\n",
      "9.049534941552791e+20\n",
      "6.281006245845998e+20\n",
      "7.876404293443845e+20\n",
      "3.561395382175706e+20\n",
      "7.533552993217751e+20\n",
      "3.591920851932946e+20\n",
      "3.0585834124312714e+20\n",
      "8.151040776494641e+21\n",
      "7.387567278135982e+21\n",
      "9.98563866382949e+21\n",
      "1.2771014098929228e+21\n",
      "6.710204772333e+21\n",
      "1.2311733857349017e+21\n",
      "5.011709678602291e+21\n"
     ]
    }
   ],
   "source": [
    "pot_vars = [\n",
    "        (\"run1BnbPOT\", nu_overlay_1),\n",
    "        (\"run2BnbPOT\", nu_overlay_2),\n",
    "        (\"run3BnbPOT\", nu_overlay_3),\n",
    "        (\"run4BnbPOT\", nu_overlay_4b),\n",
    "        (\"run1DirtPOT\", DIRT_1),\n",
    "        (\"run2DirtPOT\", DIRT_2),\n",
    "        (\"run3DirtPOT\", DIRT_3),\n",
    "        (\"run4DirtPOT\", DIRT_4b),\n",
    "        (\"run1SPPOT\", sp_overlay_1),\n",
    "        (\"run2SPPOT\", sp_overlay_2),\n",
    "        (\"run3SPPOT\", sp_overlay_3),\n",
    "        (\"run1NCPi0POT\", ncpi0_overlay_1),\n",
    "        (\"run2NCPi0POT\", ncpi0_overlay_2),\n",
    "        (\"run3NCPi0POT\", ncpi0_overlay_3),\n",
    "        (\"run4NCPi0POT\", ncpi0_overlay_4b),\n",
    "    ]\n",
    "\n",
    "for var_name, file_name in pot_vars:\n",
    "    globals()[var_name] = analysisfunction.GetPOT(file_name)"
   ]
  },
  {
   "cell_type": "markdown",
   "metadata": {},
   "source": [
    "# Load input files\n"
   ]
  },
  {
   "cell_type": "code",
   "execution_count": 7,
   "metadata": {},
   "outputs": [],
   "source": [
    "\n",
    "\n",
    "#all_df_in_bdt_sp_overlay, all_df_in_pfeval_sp_overlay, all_df_in_kine_sp_overlay, all_df_in_eval_sp_overlay = analysisfunction.LoadTreesData(sp_overlay_1, sp_overlay_2, sp_overlay_3)\n"
   ]
  },
  {
   "cell_type": "markdown",
   "metadata": {},
   "source": [
    "all_df_in_bdt_over, all_df_in_pfeval_over, all_df_in_kine_over, all_df_in_eval_over = analysisfunction.LoadTreesTruth(nu_overlay_1, nu_overlay_2, nu_overlay_3)\n",
    "\n",
    "all_df_in_bdt_over = analysisfunction.LoadBNBOverlay(all_df_in_bdt_over, all_df_in_pfeval_over, all_df_in_kine_over, all_df_in_eval_over)\n",
    "del all_df_in_pfeval_over\n",
    "del all_df_in_eval_over\n",
    "del all_df_in_kine_over"
   ]
  },
  {
   "cell_type": "code",
   "execution_count": 8,
   "metadata": {},
   "outputs": [],
   "source": [
    "all_df_in_bdt_over, all_df_in_pfeval_over, all_df_in_kine_over, all_df_in_eval_over, all_df_in_time_over, all_df_in_pelee_over = analysisfunction.LoadTreesTruth1(nu_overlay_4b, su = True)\n",
    "\n",
    "all_df_in_bdt_over = analysisfunction.LoadBNBOverlay(all_df_in_bdt_over, all_df_in_pfeval_over, all_df_in_kine_over, all_df_in_eval_over, all_df_in_time_over, all_df_in_pelee_over)\n",
    "del all_df_in_pfeval_over\n",
    "del all_df_in_eval_over\n",
    "del all_df_in_kine_over\n",
    "del all_df_in_time_over\n",
    "del all_df_in_pelee_over"
   ]
  },
  {
   "cell_type": "markdown",
   "metadata": {},
   "source": [
    "all_df_in_bdt_dirt, all_df_in_pfeval_dirt, all_df_in_kine_dirt, all_df_in_eval_dirt = analysisfunction.LoadTreesTruth(DIRT_1, DIRT_2, DIRT_3)\n",
    "\n",
    "all_df_in_bdt_dirt = analysisfunction.LoadDirt(all_df_in_bdt_dirt, all_df_in_pfeval_dirt, all_df_in_kine_dirt, all_df_in_eval_dirt)\n",
    "del all_df_in_pfeval_dirt\n",
    "del all_df_in_eval_dirt\n",
    "del all_df_in_kine_dirt"
   ]
  },
  {
   "cell_type": "code",
   "execution_count": 9,
   "metadata": {},
   "outputs": [],
   "source": [
    "all_df_in_bdt_dirt, all_df_in_pfeval_dirt, all_df_in_kine_dirt, all_df_in_eval_dirt, all_df_in_time_dirt, all_df_in_pelee_dirt = analysisfunction.LoadTreesTruth1(DIRT_4b, su = True)\n",
    "\n",
    "all_df_in_bdt_dirt = analysisfunction.LoadDirt(all_df_in_bdt_dirt, all_df_in_pfeval_dirt, all_df_in_kine_dirt, all_df_in_eval_dirt, all_df_in_time_dirt, all_df_in_pelee_dirt)\n",
    "del all_df_in_pfeval_dirt\n",
    "del all_df_in_eval_dirt\n",
    "del all_df_in_kine_dirt\n",
    "del all_df_in_time_dirt\n",
    "del all_df_in_pelee_dirt"
   ]
  },
  {
   "cell_type": "markdown",
   "metadata": {},
   "source": [
    "all_df_in_bdt_extbnb, all_df_in_pfeval_extbnb, all_df_in_kine_extbnb, all_df_in_eval_extbnb = analysisfunction.LoadTreesData(EXTBNB_1, EXTBNB_2, EXTBNB_3)\n",
    "\n",
    "all_df_in_bdt_ext = analysisfunction.LoadExtBnb(all_df_in_bdt_extbnb, all_df_in_pfeval_extbnb, all_df_in_kine_extbnb, all_df_in_eval_extbnb)\n",
    "del all_df_in_pfeval_extbnb\n",
    "del all_df_in_eval_extbnb\n",
    "del all_df_in_kine_extbnb"
   ]
  },
  {
   "cell_type": "code",
   "execution_count": 10,
   "metadata": {},
   "outputs": [],
   "source": [
    "all_df_in_bdt_extbnb, all_df_in_pfeval_extbnb, all_df_in_kine_extbnb, all_df_in_eval_extbnb, all_df_in_time_extbnb, all_df_in_pelee_extbnb = analysisfunction.LoadTreesData1(EXTBNB_4b, su = True)\n",
    "\n",
    "all_df_in_bdt_ext = analysisfunction.LoadExtBnb(all_df_in_bdt_extbnb, all_df_in_pfeval_extbnb, all_df_in_kine_extbnb, all_df_in_eval_extbnb, all_df_in_time_extbnb, all_df_in_pelee_extbnb)\n",
    "del all_df_in_pfeval_extbnb\n",
    "del all_df_in_eval_extbnb\n",
    "del all_df_in_kine_extbnb\n",
    "del all_df_in_time_extbnb\n",
    "del all_df_in_pelee_extbnb"
   ]
  },
  {
   "cell_type": "markdown",
   "metadata": {},
   "source": [
    "#all_df_in_bdt_bnb, all_df_in_pfeval_bnb, all_df_in_kine_bnb, all_df_in_eval_bnb = analysisfunction.LoadTreesData(BNB_1, BNB_2, BNB_3)\n",
    "all_df_in_bdt_bnb, all_df_in_pfeval_bnb, all_df_in_kine_bnb, all_df_in_eval_bnb = analysisfunction.LoadTreesData(ncpi0_overlay_1, ncpi0_overlay_2, ncpi0_overlay_3)\n",
    "\n",
    "\n",
    "all_df_in_bdt_data = analysisfunction.LoadBnb(all_df_in_bdt_bnb, all_df_in_pfeval_bnb, all_df_in_kine_bnb, all_df_in_eval_bnb)\n",
    "del all_df_in_pfeval_bnb\n",
    "del all_df_in_eval_bnb\n",
    "del all_df_in_kine_bnb"
   ]
  },
  {
   "cell_type": "code",
   "execution_count": 11,
   "metadata": {},
   "outputs": [],
   "source": [
    "all_df_in_bdt_bnb, all_df_in_pfeval_bnb, all_df_in_kine_bnb, all_df_in_eval_bnb, all_df_in_time_bnb, all_df_in_pelee_bnb = analysisfunction.LoadTreesData1(BNB_4b, su = True)\n",
    "#all_df_in_bdt_bnb, all_df_in_pfeval_bnb, all_df_in_kine_bnb, all_df_in_eval_bnb = analysisfunction.LoadTreesData1(ncpi0_overlay_4b, su = True)\n",
    "\n",
    "\n",
    "all_df_in_bdt_data = analysisfunction.LoadBnb(all_df_in_bdt_bnb, all_df_in_pfeval_bnb, all_df_in_kine_bnb, all_df_in_eval_bnb, all_df_in_time_bnb, all_df_in_pelee_bnb)\n",
    "del all_df_in_pfeval_bnb\n",
    "del all_df_in_eval_bnb\n",
    "del all_df_in_kine_bnb\n",
    "del all_df_in_time_bnb\n",
    "del all_df_in_pelee_bnb"
   ]
  },
  {
   "cell_type": "markdown",
   "metadata": {},
   "source": [
    "all_df_in_bdt_ncpi0, all_df_in_pfeval_ncpi0, all_df_in_kine_ncpi0, all_df_in_eval_ncpi0 = analysisfunction.LoadTreesTruth(ncpi0_overlay_1, ncpi0_overlay_2, ncpi0_overlay_3)\n",
    "\n",
    "all_df_in_bdt_ncpi0 = analysisfunction.LoadNCPi0Overlay(all_df_in_bdt_ncpi0, all_df_in_pfeval_ncpi0, all_df_in_kine_ncpi0, all_df_in_eval_ncpi0)\n",
    "del all_df_in_pfeval_ncpi0\n",
    "del all_df_in_eval_ncpi0\n",
    "del all_df_in_kine_ncpi0"
   ]
  },
  {
   "cell_type": "code",
   "execution_count": 12,
   "metadata": {},
   "outputs": [],
   "source": [
    "all_df_in_bdt_ncpi0, all_df_in_pfeval_ncpi0, all_df_in_kine_ncpi0, all_df_in_eval_ncpi0, all_df_in_time_ncpi0, all_df_in_pelee_ncpi0 = analysisfunction.LoadTreesTruth1(ncpi0_overlay_4b, su = True)\n",
    "\n",
    "all_df_in_bdt_ncpi0 = analysisfunction.LoadNCPi0Overlay(all_df_in_bdt_ncpi0, all_df_in_pfeval_ncpi0, all_df_in_kine_ncpi0, all_df_in_eval_ncpi0, all_df_in_time_ncpi0, all_df_in_pelee_ncpi0)\n",
    "del all_df_in_pfeval_ncpi0\n",
    "del all_df_in_eval_ncpi0\n",
    "del all_df_in_kine_ncpi0\n",
    "del all_df_in_time_ncpi0\n",
    "del all_df_in_pelee_ncpi0"
   ]
  },
  {
   "cell_type": "code",
   "execution_count": 13,
   "metadata": {},
   "outputs": [],
   "source": [
    "all_df = pd.concat([all_df_in_bdt_over, all_df_in_bdt_dirt, all_df_in_bdt_ext, all_df_in_bdt_data], ignore_index=True, sort=False)"
   ]
  },
  {
   "cell_type": "code",
   "execution_count": 14,
   "metadata": {},
   "outputs": [],
   "source": [
    "del all_df_in_bdt_over\n",
    "del all_df_in_bdt_dirt\n",
    "del all_df_in_bdt_ext\n",
    "del all_df_in_bdt_data"
   ]
  },
  {
   "cell_type": "code",
   "execution_count": 15,
   "metadata": {},
   "outputs": [
    {
     "name": "stdout",
     "output_type": "stream",
     "text": [
      "7.303211076491763e+20\n",
      "9.049534941552791e+20\n",
      "6.281006245845998e+20\n",
      "7.876404293443845e+20\n",
      "3.561395382175706e+20\n",
      "7.533552993217751e+20\n",
      "3.591920851932946e+20\n",
      "3.0585834124312714e+20\n",
      "8.151040776494641e+21\n",
      "7.387567278135982e+21\n",
      "9.98563866382949e+21\n",
      "1.2771014098929228e+21\n",
      "6.710204772333e+21\n",
      "1.2311733857349017e+21\n",
      "5.011709678602291e+21\n"
     ]
    }
   ],
   "source": [
    "num_evts = all_df.shape[0]\n",
    "\n",
    "y = all_df[\"true_event_type\"].to_numpy()\n",
    "\n",
    "w = []\n",
    "#w = analysisfunction.CalculateWeights(all_df, run1dataPOT+run2dataPOT+run3dataPOT, run1ExtBnbPOT+run2ExtBnbPOT+run3ExtBnbPOT, pot_vars)\n",
    "w = analysisfunction.CalculateWeights(all_df, run4dataPOT, run4ExtBnbPOT, pot_vars, run4 = True)"
   ]
  },
  {
   "cell_type": "code",
   "execution_count": 16,
   "metadata": {},
   "outputs": [],
   "source": [
    "weights_sig, weights_bkg, weights_data = analysisfunction.GetVariableArrays(all_df, \"weights\", \"weights\", [])\n",
    "    \n",
    "        \n",
    "num_sig_tot=np.sum(weights_sig) #/ 0.83"
   ]
  },
  {
   "cell_type": "markdown",
   "metadata": {},
   "source": [
    "# Make data, bkg, sig"
   ]
  },
  {
   "cell_type": "code",
   "execution_count": 17,
   "metadata": {},
   "outputs": [
    {
     "name": "stdout",
     "output_type": "stream",
     "text": [
      "7.303211076491763e+20\n",
      "9.049534941552791e+20\n",
      "6.281006245845998e+20\n",
      "7.876404293443845e+20\n",
      "3.561395382175706e+20\n",
      "7.533552993217751e+20\n",
      "3.591920851932946e+20\n",
      "3.0585834124312714e+20\n",
      "8.151040776494641e+21\n",
      "7.387567278135982e+21\n",
      "9.98563866382949e+21\n",
      "1.2771014098929228e+21\n",
      "6.710204772333e+21\n",
      "1.2311733857349017e+21\n",
      "5.011709678602291e+21\n"
     ]
    }
   ],
   "source": [
    "#make input arrays for bump hunter\n",
    "hist_input = False\n",
    "\n",
    "sig_no, bkg, data = analysisfunction.GetVariableArrays(all_df, \"kine_pio_mass\",\"pi0_mass\", [], \"ncpi0_sideband\")\n",
    "\n",
    "sig_scale = 1.5\n",
    "sig_raw, bkg_sig, data_sig = analysisfunction.GetVariableArrays(all_df_in_bdt_ncpi0, \"kine_pio_mass\",\"pi0_mass\", [-3], \"ncpi0_sideband\")\n",
    "w = analysisfunction.CalculateWeights(all_df_in_bdt_ncpi0, run4dataPOT, run4ExtBnbPOT, pot_vars, run4 = True)\n",
    "w_sig_in, w_bkg_sig, w_data_sig = analysisfunction.GetVariableArrays(all_df_in_bdt_ncpi0, \"weights\", \"w\", [-3], \"ncpi0_sideband\")\n",
    "\n",
    "sig = [x * sig_scale for x in sig_raw]\n",
    "\n",
    "w_sig, w_bkg, w_data = analysisfunction.GetVariableArrays(all_df, \"weights\", \"w\", [], \"ncpi0_sideband\")\n",
    "\n",
    "sig = np.array(sig)\n",
    "bkg = np.array(bkg)\n",
    "data = np.array(data)"
   ]
  },
  {
   "cell_type": "code",
   "execution_count": 18,
   "metadata": {},
   "outputs": [
    {
     "name": "stdout",
     "output_type": "stream",
     "text": [
      "[232.67664 192.14429 220.46527 ... 209.77753  70.14368  61.35598]\n"
     ]
    }
   ],
   "source": [
    "print(sig)"
   ]
  },
  {
   "cell_type": "markdown",
   "metadata": {},
   "source": [
    "## For hist inputs\n",
    "\n",
    "hist_input = True\n",
    "\n",
    "#Open the file\n",
    "File = upr.open('/Users/eyandel/Documents/MicroBooNE/bump/data/0p_600_data_hists.root')\n",
    "File.items()\n",
    "\n",
    "#Background\n",
    "bkg = File['bkg'].values()\n",
    "\n",
    "#Data\n",
    "data = File['data'].values()\n",
    "\n",
    "#Signal\n",
    "sig = File['sig'].values()"
   ]
  },
  {
   "cell_type": "code",
   "execution_count": 19,
   "metadata": {},
   "outputs": [],
   "source": [
    "if blind_data:\n",
    "    data = np.zeros_like(data)"
   ]
  },
  {
   "cell_type": "code",
   "execution_count": 20,
   "metadata": {},
   "outputs": [
    {
     "data": {
      "text/plain": [
       "(5455,)"
      ]
     },
     "execution_count": 20,
     "metadata": {},
     "output_type": "execute_result"
    }
   ],
   "source": [
    "# Position of the bump in the data\n",
    "#Lth = 5.5\n",
    "\n",
    "# Range for the histogram\n",
    "rang = [0,1500]\n",
    "binnum = 50\n",
    "\n",
    "bkg.shape"
   ]
  },
  {
   "cell_type": "code",
   "execution_count": 21,
   "metadata": {},
   "outputs": [
    {
     "data": {
      "image/png": "[encoded data removed]",
      "text/plain": [
       "<Figure size 1200x800 with 1 Axes>"
      ]
     },
     "metadata": {},
     "output_type": "display_data"
    }
   ],
   "source": [
    "# Plot the 2 distributions (data and background)\n",
    "if hist_input:\n",
    "    F = plt.figure(figsize=(12,8))\n",
    "    plt.title(\"Test distribution\")\n",
    "    # Since bkg and data are already arrays of bin contents, use bar plot to show them\n",
    "    bin_edges = np.linspace(rang[0], rang[1], len(bkg)+1)\n",
    "    bin_centers = 0.5 * (bin_edges[:-1] + bin_edges[1:])\n",
    "\n",
    "    plt.bar(bin_centers, bkg, width=bin_edges[1]-bin_edges[0], align='center', alpha=0.5, label='background', color='C0', edgecolor='C0')\n",
    "    plt.errorbar(bin_centers, data, yerr=np.sqrt(data), fmt='o', label='data', color='C1')\n",
    "    plt.legend(fontsize='xx-large')\n",
    "    plt.xticks(fontsize='xx-large')\n",
    "    plt.yticks(fontsize='xx-large')\n",
    "    plt.show()\n",
    "    F.savefig('/Users/eyandel/Documents/MicroBooNE/bump/plots/'+plot_folder+'/datamc/distribution_input.png', format='png',facecolor='white', transparent=False)\n",
    "else:\n",
    "    # if input arrays instead of input hists\n",
    "    F = plt.figure(figsize=(12,8))\n",
    "    plt.title(\"Test distribution\")\n",
    "    plt.hist(\n",
    "        [bkg, data],\n",
    "        bins=binnum,\n",
    "        histtype=\"step\",\n",
    "        range=rang,\n",
    "        label=[\"background\", \"data\"],\n",
    "        linewidth=2,\n",
    "        weights=[w_bkg, w_data],\n",
    "    )\n",
    "    plt.legend(fontsize='xx-large')\n",
    "    plt.xticks(fontsize='xx-large')\n",
    "    plt.yticks(fontsize='xx-large')\n",
    "    plt.show()\n",
    "    F.savefig('/Users/eyandel/Documents/MicroBooNE/bump/plots/'+plot_folder+'/datamc/distribution_input.png', format='png',facecolor='white', transparent=False)\n",
    "\n"
   ]
  },
  {
   "cell_type": "markdown",
   "metadata": {},
   "source": [
    "## Create a BumpHunter1D class instance.\n",
    "\n",
    "The BumpHunte1Dr class provides all the methods required to \"bump hunt\" in ease.\n",
    "\n",
    "All the parameters and results are also stored in this object."
   ]
  },
  {
   "cell_type": "code",
   "execution_count": 22,
   "metadata": {},
   "outputs": [],
   "source": [
    "hunter = BH.BumpHunter1D(\n",
    "    rang=rang,\n",
    "    width_min=1,\n",
    "    width_max=10,\n",
    "    width_step=1,\n",
    "    scan_step=1,\n",
    "    npe=400000,\n",
    "    nworker=1,\n",
    "    seed=666,\n",
    "    bins=binnum,\n",
    "    weights=w_bkg,\n",
    ")\n",
    "\n",
    "if hist_input:\n",
    "    hunter = BH.BumpHunter1D(\n",
    "        rang=rang,\n",
    "        width_min=1,\n",
    "        width_max=10,\n",
    "        width_step=1,\n",
    "        scan_step=1,\n",
    "        npe=400000,\n",
    "        nworker=1,\n",
    "        seed=666,\n",
    "        bins=binnum,\n",
    "    )"
   ]
  },
  {
   "cell_type": "markdown",
   "metadata": {},
   "source": [
    "## Call the BumpScan Method\n",
    "\n",
    "The function will scan the data distribution using variable-width window sizes (between width_min and width_max) and calculate the p-value of data with respect to the background for each window. The minimum p-value obtained from all windows is the local p-value.\n",
    "\n",
    "To cope with the look-elsewhere effect a global p-value is calculated using a two-step procedure:\n",
    "- the distribution of possible p-values is determined from background-only pseudo-experiments (npe parameter)\n",
    "- the p-value found in data is compared to the background-only p-value distribution to calculate the global p-value"
   ]
  },
  {
   "cell_type": "code",
   "execution_count": 23,
   "metadata": {},
   "outputs": [
    {
     "name": "stdout",
     "output_type": "stream",
     "text": [
      "####bump_scan call####\n",
      "Generating histograms\n",
      "10 values of width will be tested\n",
      "SCAN\n"
     ]
    },
    {
     "ename": "KeyboardInterrupt",
     "evalue": "",
     "output_type": "error",
     "traceback": [
      "\u001b[0;31m---------------------------------------------------------------------------\u001b[0m",
      "\u001b[0;31mKeyboardInterrupt\u001b[0m                         Traceback (most recent call last)",
      "Cell \u001b[0;32mIn[23], line 3\u001b[0m\n\u001b[1;32m      1\u001b[0m \u001b[38;5;28mprint\u001b[39m(\u001b[38;5;124m'\u001b[39m\u001b[38;5;124m####bump_scan call####\u001b[39m\u001b[38;5;124m'\u001b[39m)\n\u001b[1;32m      2\u001b[0m begin \u001b[38;5;241m=\u001b[39m datetime\u001b[38;5;241m.\u001b[39mnow()\n\u001b[0;32m----> 3\u001b[0m \u001b[43mhunter\u001b[49m\u001b[38;5;241;43m.\u001b[39;49m\u001b[43mbump_scan\u001b[49m\u001b[43m(\u001b[49m\u001b[43mdata\u001b[49m\u001b[43m,\u001b[49m\u001b[43m \u001b[49m\u001b[43mbkg\u001b[49m\u001b[43m,\u001b[49m\u001b[43m \u001b[49m\u001b[43mis_hist\u001b[49m\u001b[38;5;241;43m=\u001b[39;49m\u001b[43mhist_input\u001b[49m\u001b[43m)\u001b[49m\n\u001b[1;32m      4\u001b[0m end \u001b[38;5;241m=\u001b[39m datetime\u001b[38;5;241m.\u001b[39mnow()\n\u001b[1;32m      5\u001b[0m \u001b[38;5;28mprint\u001b[39m(\u001b[38;5;124mf\u001b[39m\u001b[38;5;124m'\u001b[39m\u001b[38;5;124mtime=\u001b[39m\u001b[38;5;132;01m{\u001b[39;00mend\u001b[38;5;250m \u001b[39m\u001b[38;5;241m-\u001b[39m\u001b[38;5;250m \u001b[39mbegin\u001b[38;5;132;01m}\u001b[39;00m\u001b[38;5;124m'\u001b[39m)\n",
      "File \u001b[0;32m~/Library/Python/3.12/lib/python/site-packages/pyBumpHunter/bumphunter_1dim.py:1162\u001b[0m, in \u001b[0;36mBumpHunter1D.bump_scan\u001b[0;34m(self, data, bkg, is_hist, do_pseudo, multi_chan)\u001b[0m\n\u001b[1;32m   1155\u001b[0m                     \u001b[38;5;28mself\u001b[39m\u001b[38;5;241m.\u001b[39m_scan_hist(\n\u001b[1;32m   1156\u001b[0m                         data_hist,\n\u001b[1;32m   1157\u001b[0m                         bkg_hist,\n\u001b[1;32m   1158\u001b[0m                         w_ar,\n\u001b[1;32m   1159\u001b[0m                         i\n\u001b[1;32m   1160\u001b[0m                     )\n\u001b[1;32m   1161\u001b[0m                 \u001b[38;5;28;01melse\u001b[39;00m:\n\u001b[0;32m-> 1162\u001b[0m                     \u001b[38;5;28;43mself\u001b[39;49m\u001b[38;5;241;43m.\u001b[39;49m\u001b[43m_scan_hist\u001b[49m\u001b[43m(\u001b[49m\n\u001b[1;32m   1163\u001b[0m \u001b[43m                        \u001b[49m\u001b[43mpseudo_hist\u001b[49m\u001b[43m[\u001b[49m\u001b[43m:\u001b[49m\u001b[43m,\u001b[49m\u001b[43m \u001b[49m\u001b[43mi\u001b[49m\u001b[43m \u001b[49m\u001b[38;5;241;43m-\u001b[39;49m\u001b[43m \u001b[49m\u001b[38;5;241;43m1\u001b[39;49m\u001b[43m]\u001b[49m\u001b[43m,\u001b[49m\n\u001b[1;32m   1164\u001b[0m \u001b[43m                        \u001b[49m\u001b[43mbkg_hist\u001b[49m\u001b[43m,\u001b[49m\n\u001b[1;32m   1165\u001b[0m \u001b[43m                        \u001b[49m\u001b[43mw_ar\u001b[49m\u001b[43m,\u001b[49m\n\u001b[1;32m   1166\u001b[0m \u001b[43m                        \u001b[49m\u001b[43mi\u001b[49m\n\u001b[1;32m   1167\u001b[0m \u001b[43m                    \u001b[49m\u001b[43m)\u001b[49m\n\u001b[1;32m   1168\u001b[0m \u001b[38;5;28;01melse\u001b[39;00m:\n\u001b[1;32m   1169\u001b[0m     \u001b[38;5;28;01mif\u001b[39;00m multi_chan:\n",
      "File \u001b[0;32m~/Library/Python/3.12/lib/python/site-packages/pyBumpHunter/bumphunter_1dim.py:412\u001b[0m, in \u001b[0;36mBumpHunter1D._scan_hist\u001b[0;34m(self, hist, ref, w_ar, ih)\u001b[0m\n\u001b[1;32m    409\u001b[0m \u001b[38;5;66;03m# Count events in all windows of width w\u001b[39;00m\n\u001b[1;32m    410\u001b[0m \u001b[38;5;66;03m# FIXME any better way to do it ?? Without loop ?? FIXME\u001b[39;00m\n\u001b[1;32m    411\u001b[0m Nref \u001b[38;5;241m=\u001b[39m np\u001b[38;5;241m.\u001b[39marray([ref[p : p \u001b[38;5;241m+\u001b[39m w]\u001b[38;5;241m.\u001b[39msum() \u001b[38;5;28;01mfor\u001b[39;00m p \u001b[38;5;129;01min\u001b[39;00m pos], dtype\u001b[38;5;241m=\u001b[39m\u001b[38;5;28mfloat\u001b[39m)\n\u001b[0;32m--> 412\u001b[0m Nhist \u001b[38;5;241m=\u001b[39m np\u001b[38;5;241m.\u001b[39marray([\u001b[43mhist\u001b[49m\u001b[43m[\u001b[49m\u001b[43mp\u001b[49m\u001b[43m \u001b[49m\u001b[43m:\u001b[49m\u001b[43m \u001b[49m\u001b[43mp\u001b[49m\u001b[43m \u001b[49m\u001b[38;5;241;43m+\u001b[39;49m\u001b[43m \u001b[49m\u001b[43mw\u001b[49m\u001b[43m]\u001b[49m\u001b[38;5;241;43m.\u001b[39;49m\u001b[43msum\u001b[49m\u001b[43m(\u001b[49m\u001b[43m)\u001b[49m \u001b[38;5;28;01mfor\u001b[39;00m p \u001b[38;5;129;01min\u001b[39;00m pos])\n\u001b[1;32m    414\u001b[0m \u001b[38;5;66;03m# Compute and apply side-band normalization scale factor (if needed)\u001b[39;00m\n\u001b[1;32m    415\u001b[0m \u001b[38;5;28;01mif\u001b[39;00m \u001b[38;5;28mself\u001b[39m\u001b[38;5;241m.\u001b[39muse_sideband:\n",
      "File \u001b[0;32m~/Library/Python/3.12/lib/python/site-packages/numpy/_core/_methods.py:52\u001b[0m, in \u001b[0;36m_sum\u001b[0;34m(a, axis, dtype, out, keepdims, initial, where)\u001b[0m\n\u001b[1;32m     50\u001b[0m \u001b[38;5;28;01mdef\u001b[39;00m \u001b[38;5;21m_sum\u001b[39m(a, axis\u001b[38;5;241m=\u001b[39m\u001b[38;5;28;01mNone\u001b[39;00m, dtype\u001b[38;5;241m=\u001b[39m\u001b[38;5;28;01mNone\u001b[39;00m, out\u001b[38;5;241m=\u001b[39m\u001b[38;5;28;01mNone\u001b[39;00m, keepdims\u001b[38;5;241m=\u001b[39m\u001b[38;5;28;01mFalse\u001b[39;00m,\n\u001b[1;32m     51\u001b[0m          initial\u001b[38;5;241m=\u001b[39m_NoValue, where\u001b[38;5;241m=\u001b[39m\u001b[38;5;28;01mTrue\u001b[39;00m):\n\u001b[0;32m---> 52\u001b[0m     \u001b[38;5;28;01mreturn\u001b[39;00m \u001b[43mumr_sum\u001b[49m\u001b[43m(\u001b[49m\u001b[43ma\u001b[49m\u001b[43m,\u001b[49m\u001b[43m \u001b[49m\u001b[43maxis\u001b[49m\u001b[43m,\u001b[49m\u001b[43m \u001b[49m\u001b[43mdtype\u001b[49m\u001b[43m,\u001b[49m\u001b[43m \u001b[49m\u001b[43mout\u001b[49m\u001b[43m,\u001b[49m\u001b[43m \u001b[49m\u001b[43mkeepdims\u001b[49m\u001b[43m,\u001b[49m\u001b[43m \u001b[49m\u001b[43minitial\u001b[49m\u001b[43m,\u001b[49m\u001b[43m \u001b[49m\u001b[43mwhere\u001b[49m\u001b[43m)\u001b[49m\n",
      "\u001b[0;31mKeyboardInterrupt\u001b[0m: "
     ]
    }
   ],
   "source": [
    "print('####bump_scan call####')\n",
    "begin = datetime.now()\n",
    "hunter.bump_scan(data, bkg, is_hist=hist_input)\n",
    "end = datetime.now()\n",
    "print(f'time={end - begin}')\n",
    "print('')"
   ]
  },
  {
   "cell_type": "markdown",
   "metadata": {},
   "source": [
    "## Print results of BH scan\n",
    "\n",
    "Print information on more significant window (\"bump\"): location, width, excess over background events, global p-value and global significance."
   ]
  },
  {
   "cell_type": "code",
   "execution_count": null,
   "metadata": {},
   "outputs": [],
   "source": [
    "with open('/Users/eyandel/Documents/MicroBooNE/bump/plots/'+plot_folder+'/bump_scan.txt', 'w') as f:\n",
    "    f.write(hunter.bump_info(data))\n",
    "print(hunter.bump_info(data))\n",
    "#print(f'   mean (true) = {Lth}')"
   ]
  },
  {
   "cell_type": "markdown",
   "metadata": {},
   "source": [
    "## Tomography plot\n",
    "\n",
    "This figure shows the p-value in each of the windows used to scan the data distribution."
   ]
  },
  {
   "cell_type": "code",
   "execution_count": null,
   "metadata": {},
   "outputs": [],
   "source": [
    "#hunter.plot_tomography(data)"
   ]
  },
  {
   "cell_type": "markdown",
   "metadata": {},
   "source": [
    "## Show most significant window\n",
    "\n",
    "Window with the lowest p-value obtained from the data scans."
   ]
  },
  {
   "cell_type": "code",
   "execution_count": null,
   "metadata": {},
   "outputs": [],
   "source": [
    "hunter.plot_bump(data, bkg, is_hist=hist_input, filename='/Users/eyandel/Documents/MicroBooNE/bump/plots/'+plot_folder+'/datamc/bump_scan.png')\n",
    "hunter.plot_bump(data, bkg, is_hist=hist_input)"
   ]
  },
  {
   "cell_type": "markdown",
   "metadata": {},
   "source": [
    "# Global p-value\n",
    "\n",
    "This figure shows the test statistics (log(p-value)) obtained from background-only toys and the p-value obtained from data. The global p-value is equal to the fraction of background-only experiments which have a higher test statistics than for the data (i.e. this is the p-value of p-values)."
   ]
  },
  {
   "cell_type": "code",
   "execution_count": null,
   "metadata": {},
   "outputs": [],
   "source": [
    "hunter.plot_stat(show_Pval=True)"
   ]
  },
  {
   "cell_type": "markdown",
   "metadata": {},
   "source": [
    "## Signal injection\n",
    "\n",
    "Inject signal in data until a 5 sigma excess is found. "
   ]
  },
  {
   "cell_type": "code",
   "execution_count": null,
   "metadata": {},
   "outputs": [],
   "source": [
    "len(sig)"
   ]
  },
  {
   "cell_type": "code",
   "execution_count": null,
   "metadata": {},
   "outputs": [],
   "source": [
    "# Plot the 2 distributions (data and background)\n",
    "if hist_input:\n",
    "    F = plt.figure(figsize=(12,8))\n",
    "    plt.title(\"Test distribution\")\n",
    "    # Since bkg and data are already arrays of bin contents, use bar plot to show them\n",
    "    bin_edges = np.linspace(rang[0], rang[1], len(bkg)+1)\n",
    "    bin_centers = 0.5 * (bin_edges[:-1] + bin_edges[1:])\n",
    "\n",
    "    plt.bar(bin_centers, bkg, width=bin_edges[1]-bin_edges[0], align='center', alpha=0.5, label='background', color='C0', edgecolor='C0')\n",
    "    plt.errorbar(bin_centers, sig, yerr=np.sqrt(sig), fmt='o', label='injected signal', color='C1')\n",
    "    plt.legend(fontsize='xx-large')\n",
    "    plt.xticks(fontsize='xx-large')\n",
    "    plt.yticks(fontsize='xx-large')\n",
    "    plt.show()\n",
    "    F.savefig('/Users/eyandel/Documents/MicroBooNE/bump/plots/'+plot_folder+'/mc_only/distribution_inject_'+str(sig_scale)+'.png', format='png',facecolor='white', transparent=False)\n",
    "else:\n",
    "    # if input arrays instead of input hists\n",
    "    F = plt.figure(figsize=(12,8))\n",
    "    plt.title(\"Test Injection Distribution\")\n",
    "    plt.hist(\n",
    "        [bkg, sig],\n",
    "        bins=binnum,\n",
    "        histtype=\"step\",\n",
    "        range=rang,\n",
    "        label=[\"background\", \"injected signal\"],\n",
    "        linewidth=2,\n",
    "        weights=[w_bkg, w_sig_in],\n",
    "    )\n",
    "    plt.legend(fontsize='xx-large')\n",
    "    plt.xticks(fontsize='xx-large')\n",
    "    plt.yticks(fontsize='xx-large')\n",
    "    plt.show()\n",
    "    F.savefig('/Users/eyandel/Documents/MicroBooNE/bump/plots/'+plot_folder+'/mc_only/distribution_inject_'+str(sig_scale)+'.png', format='png',facecolor='white', transparent=False)"
   ]
  },
  {
   "cell_type": "code",
   "execution_count": null,
   "metadata": {
    "scrolled": false
   },
   "outputs": [],
   "source": [
    "# We have to set additionnal parameters specific to the signal injection.\n",
    "# All the parameters defined previously are kept.\n",
    "hunter.sigma_limit = 4.5\n",
    "hunter.str_min = 0.001 # if str_scale='log', the real starting value is 10**str_min\n",
    "hunter.str_step = 0.0005\n",
    "hunter.str_scale = 'lin' #'log'\n",
    "hunter.signal_exp = len(sig) #150 # Correspond the the real number of signal events generated when making the data\n",
    "hunter.npe_inject = 2000\n",
    "\n",
    "print('####signal_inject call####')\n",
    "begin = datetime.now()\n",
    "hunter.signal_inject(sig,bkg,is_hist=hist_input)\n",
    "end = datetime.now()\n",
    "print(f'time={end - begin}')\n",
    "print('')"
   ]
  },
  {
   "cell_type": "code",
   "execution_count": null,
   "metadata": {
    "scrolled": false
   },
   "outputs": [],
   "source": [
    "# Get the injection plot (with linear and log scale axis)\n",
    "hunter.plot_inject()\n",
    "hunter.plot_inject(filename = '/Users/eyandel/Documents/MicroBooNE/bump/plots/'+plot_folder+'/mc_only/signal_inject_sig_'+str(sig_scale)+'.png')"
   ]
  },
  {
   "cell_type": "code",
   "execution_count": null,
   "metadata": {},
   "outputs": [],
   "source": [
    "F = plt.figure(figsize=(12,8))\n",
    "plt.hist(\n",
    "    [hunter.t_ar[:hunter.npe],hunter.t_ar[hunter.npe:]],\n",
    "    bins=50,\n",
    "    histtype='step',\n",
    "    lw=2,\n",
    "    label=['bkg only', 'bkg+sig']\n",
    ")\n",
    "plt.legend(fontsize='x-large')\n",
    "plt.xlabel('BH stat', size='x-large')\n",
    "plt.xticks(fontsize='x-large')\n",
    "plt.yticks(fontsize='x-large')\n",
    "plt.yscale('log')\n",
    "plt.show()\n",
    "F.savefig('/Users/eyandel/Documents/MicroBooNE/bump/plots/'+plot_folder+'/mc_only/BHstat_inject_'+str(sig_scale)+'.png', format='png',facecolor='white', transparent=False)"
   ]
  },
  {
   "cell_type": "code",
   "execution_count": null,
   "metadata": {},
   "outputs": [],
   "source": [
    "# Plot the signal injected distribution\n",
    "F = plt.figure(figsize=(12,8))\n",
    "plt.title(\"4.5 Sigma Distribution (\" + str(hunter.signal_min) + \" injected events), \" + str(sig_scale) + \"* Pi0 Mass\")\n",
    "# Since bkg and data are already arrays of bin contents, use bar plot to show them\n",
    "bin_edges = np.linspace(rang[0], rang[1], len(hunter.data_inject)+1)\n",
    "bin_centers = 0.5 * (bin_edges[:-1] + bin_edges[1:])\n",
    "\n",
    "plt.bar(bin_centers, hunter.data_inject, width=bin_edges[1]-bin_edges[0], align='center', alpha=0.5, label='bkg + injected signal', color='C4', edgecolor='C4')\n",
    "#plt.errorbar(bin_centers, sig, yerr=np.sqrt(sig), fmt='o', label='injected signal', color='C1')\n",
    "plt.hist(\n",
    "        [bkg],\n",
    "        bins=binnum,\n",
    "        histtype=\"step\",\n",
    "        range=rang,\n",
    "        label=[\"background\"],\n",
    "        linewidth=2,\n",
    "        weights=[w_bkg],\n",
    "    )\n",
    "plt.legend(fontsize='xx-large')\n",
    "plt.xticks(fontsize='xx-large')\n",
    "plt.yticks(fontsize='xx-large')\n",
    "plt.show()\n",
    "F.savefig('/Users/eyandel/Documents/MicroBooNE/bump/plots/'+plot_folder+'/mc_only/signal_inject_'+str(sig_scale)+'.png', format='png',facecolor='white', transparent=False)"
   ]
  },
  {
   "cell_type": "markdown",
   "metadata": {},
   "source": [
    "# Loop over different scalings"
   ]
  },
  {
   "cell_type": "code",
   "execution_count": null,
   "metadata": {},
   "outputs": [],
   "source": [
    "for s in range(1, 10):\n",
    "    print (f\"Scaling Mass by {s*0.2}\")\n",
    "\n",
    "    sig_scale = s * 0.2\n",
    "    sig = [x * sig_scale for x in sig_raw]\n",
    "    sig = np.array(sig)\n",
    "\n",
    "    F = plt.figure(figsize=(12,8))\n",
    "    plt.title(\"Test Injection Distribution\")\n",
    "    plt.hist(\n",
    "        [bkg, sig],\n",
    "        bins=binnum,\n",
    "        histtype=\"step\",\n",
    "        range=rang,\n",
    "        label=[\"background\", \"injected signal\"],\n",
    "        linewidth=2,\n",
    "        weights=[w_bkg, w_sig_in],\n",
    "    )\n",
    "    plt.xlabel('Pi0 Mass (MeV)', size='xx-large')\n",
    "    plt.legend(fontsize='xx-large')\n",
    "    plt.xticks(fontsize='xx-large')\n",
    "    plt.yticks(fontsize='xx-large')\n",
    "    plt.show()\n",
    "    F.savefig('/Users/eyandel/Documents/MicroBooNE/bump/plots/'+plot_folder+'/mc_only/distribution_inject_'+str(sig_scale)+'.png', format='png',facecolor='white', transparent=False)\n",
    "\n",
    "    hunter.signal_exp = len(sig) #150 # Correspond the the real number of signal events generated when making the data\n",
    "    print('####signal_inject call####')\n",
    "    begin = datetime.now()\n",
    "    hunter.signal_inject(sig,bkg,is_hist=hist_input)\n",
    "    end = datetime.now()\n",
    "    print(f'time={end - begin}')\n",
    "    print('')    \n",
    "\n",
    "    hunter.plot_inject(filename = '/Users/eyandel/Documents/MicroBooNE/bump/plots/'+plot_folder+'/mc_only/signal_inject_sig_'+str(sig_scale)+'.png')\n",
    "\n",
    "    F = plt.figure(figsize=(12,8))\n",
    "    plt.hist(\n",
    "        [hunter.t_ar[:hunter.npe],hunter.t_ar[hunter.npe:]],\n",
    "        bins=50,\n",
    "        histtype='step',\n",
    "        lw=2,\n",
    "        label=['bkg only', 'bkg+sig']\n",
    "    )\n",
    "    plt.legend(fontsize='x-large')\n",
    "    plt.xlabel('BH stat', size='x-large')\n",
    "    plt.xticks(fontsize='x-large')\n",
    "    plt.yticks(fontsize='x-large')\n",
    "    plt.yscale('log')\n",
    "    plt.show()\n",
    "    F.savefig('/Users/eyandel/Documents/MicroBooNE/bump/plots/'+plot_folder+'/mc_only/BHstat_inject_'+str(sig_scale)+'.png', format='png',facecolor='white', transparent=False)\n",
    "\n",
    "    # Plot the signal injected distribution\n",
    "    F = plt.figure(figsize=(12,8))\n",
    "    plt.title(\"4.5 Sigma Distribution (\" + str(hunter.signal_min) + \" injected events), \" + str(sig_scale) + \"* Pi0 Mass\")\n",
    "    # Since bkg and data are already arrays of bin contents, use bar plot to show them\n",
    "    bin_edges = np.linspace(rang[0], rang[1], len(hunter.data_inject)+1)\n",
    "    bin_centers = 0.5 * (bin_edges[:-1] + bin_edges[1:])\n",
    "\n",
    "    plt.bar(bin_centers, hunter.data_inject, width=bin_edges[1]-bin_edges[0], align='center', alpha=0.5, label='bkg + injected signal', color='C4', edgecolor='C4')\n",
    "    #plt.errorbar(bin_centers, sig, yerr=np.sqrt(sig), fmt='o', label='injected signal', color='C1')\n",
    "    plt.hist(\n",
    "            [bkg],\n",
    "            bins=binnum,\n",
    "            histtype=\"step\",\n",
    "            range=rang,\n",
    "            label=[\"background\"],\n",
    "            linewidth=2,\n",
    "            weights=[w_bkg],\n",
    "        )\n",
    "    plt.xlabel('Pi0 Mass (MeV)', size='xx-large')\n",
    "    plt.legend(fontsize='xx-large')\n",
    "    plt.xticks(fontsize='xx-large')\n",
    "    plt.yticks(fontsize='xx-large')\n",
    "    plt.show()\n",
    "    F.savefig('/Users/eyandel/Documents/MicroBooNE/bump/plots/'+plot_folder+'/mc_only/signal_inject_'+str(sig_scale)+'.png', format='png',facecolor='white', transparent=False)"
   ]
  },
  {
   "cell_type": "code",
   "execution_count": null,
   "metadata": {},
   "outputs": [],
   "source": []
  }
 ],
 "metadata": {
  "kernelspec": {
   "display_name": "Python 3 (ipykernel)",
   "language": "python",
   "name": "python3"
  },
  "language_info": {
   "codemirror_mode": {
    "name": "ipython",
    "version": 3
   },
   "file_extension": ".py",
   "mimetype": "text/x-python",
   "name": "python",
   "nbconvert_exporter": "python",
   "pygments_lexer": "ipython3",
   "version": "3.12.6"
  }
 },
 "nbformat": 4,
 "nbformat_minor": 2
}
